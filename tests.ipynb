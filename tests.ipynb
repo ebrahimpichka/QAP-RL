{
 "cells": [
  {
   "cell_type": "code",
   "execution_count": 1,
   "metadata": {},
   "outputs": [],
   "source": [
    "import torch\n",
    "import torch.nn as nn\n",
    "import torch.nn.functional as F\n",
    "\n",
    "from models import DoublePointerNetwork, Critic\n",
    "from utils import generate_batch_qap_problem_instance"
   ]
  },
  {
   "cell_type": "code",
   "execution_count": 2,
   "metadata": {},
   "outputs": [],
   "source": [
    "class Config():\n",
    "    \"\"\"The config class.\"\"\"\n",
    "    num_instances = 20 # (n)\n",
    "    loc_input_dim = 2 \n",
    "    fac_input_dim = 20 # one-hot encoding of the facilities as initial input feature\n",
    "    attn_dim = 256\n",
    "    embed_dim = 512\n",
    "    dropout = 0.1\n",
    "    device = torch.device('cuda' if torch.cuda.is_available() else 'cpu')\n",
    "    batch_size = 64\n",
    "    epochs = 20\n",
    "    optimizer = 'adam' # 'sgd'"
   ]
  },
  {
   "cell_type": "code",
   "execution_count": 3,
   "metadata": {},
   "outputs": [],
   "source": [
    "config = Config()"
   ]
  },
  {
   "cell_type": "code",
   "execution_count": 4,
   "metadata": {},
   "outputs": [],
   "source": [
    "model = DoublePointerNetwork(\n",
    "    num_instances=config.num_instances, \n",
    "    loc_input_dim=config.loc_input_dim, \n",
    "    fac_input_dim=config.fac_input_dim, \n",
    "    embed_dim=config.embed_dim, \n",
    "    attn_dim=config.attn_dim, \n",
    "    dropout=config.dropout, \n",
    "    device=config.device\n",
    "    )\n",
    "\n",
    "critic = Critic(\n",
    "            2*(config.num_instances**2)+2*config.num_instances, # 2*(n^2) + 2*n\n",
    "            config.embed_dim, \n",
    "            config.dropout\n",
    "            )"
   ]
  },
  {
   "cell_type": "code",
   "execution_count": 5,
   "metadata": {},
   "outputs": [],
   "source": [
    "locations, _, distance_matrix, fac_matrix =\\\n",
    "                generate_batch_qap_problem_instance(config.batch_size, config.num_instances)\n",
    "\n"
   ]
  },
  {
   "cell_type": "code",
   "execution_count": 6,
   "metadata": {},
   "outputs": [
    {
     "name": "stdout",
     "output_type": "stream",
     "text": [
      "torch.Size([64, 20, 2]) torch.Size([64, 20, 20]) torch.Size([64, 20, 20])\n"
     ]
    }
   ],
   "source": [
    "print(locations.shape, distance_matrix.shape, fac_matrix.shape)"
   ]
  },
  {
   "cell_type": "code",
   "execution_count": 7,
   "metadata": {},
   "outputs": [
    {
     "data": {
      "text/plain": [
       "torch.float32"
      ]
     },
     "execution_count": 7,
     "metadata": {},
     "output_type": "execute_result"
    }
   ],
   "source": [
    "locations.float().dtype"
   ]
  },
  {
   "cell_type": "code",
   "execution_count": 8,
   "metadata": {},
   "outputs": [],
   "source": [
    "batch_size = fac_matrix.size(0)\n",
    "num_instances = fac_matrix.size(1)\n",
    "\n",
    "# perform batch rollout\n",
    "U_probs, L_probs, U_selected_locs, L_selected_facs =\\\n",
    "    model(fac_matrix=fac_matrix.float(),\n",
    "          locations=locations.float()\n",
    "          )\n"
   ]
  },
  {
   "cell_type": "code",
   "execution_count": 9,
   "metadata": {},
   "outputs": [],
   "source": [
    "def to_sparse_batch(x, adj):\n",
    "    \"\"\"Converts a dense adjacency matrix to a sparse batch of adjacency matrices.\n",
    "    \"\"\"\n",
    "    batch_size = x.size(0)\n",
    "    num_nodes = x.size(1)\n",
    "    \n",
    "\n",
    "    x = x.reshape(-1, x.shape[-1])\n",
    "    # get edge indexs\n",
    "    indices = adj.nonzero()\n",
    "    edge_indexs = indices[:,1:].t()\n",
    "    batch_offset = indices[:,0]*num_nodes\n",
    "    offset = torch.stack((batch_offset, batch_offset))\n",
    "    edge_indexs = edge_indexs + offset\n",
    "    # get batch indicator\n",
    "    batch_ls = [ [j for i in range(num_nodes)] for j in range(batch_size)]\n",
    "    batch = torch.tensor(batch_ls, dtype=torch.int64)\n",
    "    batch = batch.reshape(-1)\n",
    "    return x, edge_indexs, batch"
   ]
  },
  {
   "cell_type": "code",
   "execution_count": 34,
   "metadata": {},
   "outputs": [],
   "source": [
    "indices = fac_matrix.nonzero()"
   ]
  },
  {
   "cell_type": "code",
   "execution_count": 35,
   "metadata": {},
   "outputs": [],
   "source": [
    "edge_indexs = indices[:,1:].t()"
   ]
  },
  {
   "cell_type": "code",
   "execution_count": 36,
   "metadata": {},
   "outputs": [
    {
     "data": {
      "text/plain": [
       "tensor([[ 0,  0,  0,  ..., 19, 19, 19],\n",
       "        [ 0,  1,  2,  ..., 17, 18, 19]])"
      ]
     },
     "execution_count": 36,
     "metadata": {},
     "output_type": "execute_result"
    }
   ],
   "source": [
    "edge_indexs"
   ]
  },
  {
   "cell_type": "code",
   "execution_count": 37,
   "metadata": {},
   "outputs": [],
   "source": [
    "num_node = num_instances\n",
    "batch_offset = indices[:,0]*num_node"
   ]
  },
  {
   "cell_type": "code",
   "execution_count": 38,
   "metadata": {},
   "outputs": [
    {
     "data": {
      "text/plain": [
       "tensor([   0,    0,    0,  ..., 1260, 1260, 1260])"
      ]
     },
     "execution_count": 38,
     "metadata": {},
     "output_type": "execute_result"
    }
   ],
   "source": [
    "batch_offset"
   ]
  },
  {
   "cell_type": "code",
   "execution_count": 39,
   "metadata": {},
   "outputs": [],
   "source": [
    "offset = torch.stack((batch_offset, batch_offset))\n",
    "edge_indexs = edge_indexs + offset"
   ]
  },
  {
   "cell_type": "code",
   "execution_count": 41,
   "metadata": {},
   "outputs": [],
   "source": [
    "batch_ls = [ [j for i in range(num_node)] for j in range(batch_size)]"
   ]
  },
  {
   "cell_type": "code",
   "execution_count": 43,
   "metadata": {},
   "outputs": [],
   "source": [
    "batch = torch.tensor(batch_ls, dtype=torch.int64).cuda()\n",
    "batch = batch.reshape(-1)"
   ]
  },
  {
   "cell_type": "markdown",
   "metadata": {},
   "source": []
  },
  {
   "cell_type": "code",
   "execution_count": 44,
   "metadata": {},
   "outputs": [
    {
     "data": {
      "text/plain": [
       "tensor([ 0,  0,  0,  ..., 63, 63, 63], device='cuda:0')"
      ]
     },
     "execution_count": 44,
     "metadata": {},
     "output_type": "execute_result"
    }
   ],
   "source": [
    "batch"
   ]
  },
  {
   "cell_type": "code",
   "execution_count": null,
   "metadata": {},
   "outputs": [],
   "source": []
  }
 ],
 "metadata": {
  "kernelspec": {
   "display_name": "Python 3",
   "language": "python",
   "name": "python3"
  },
  "language_info": {
   "codemirror_mode": {
    "name": "ipython",
    "version": 3
   },
   "file_extension": ".py",
   "mimetype": "text/x-python",
   "name": "python",
   "nbconvert_exporter": "python",
   "pygments_lexer": "ipython3",
   "version": "3.11.4"
  }
 },
 "nbformat": 4,
 "nbformat_minor": 2
}
